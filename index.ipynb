{
  "cells": [
    {
      "cell_type": "raw",
      "metadata": {},
      "source": [
        "---\n",
        "title: \"Laboratories of the Faculty of Agricultural, Environmental and Food Sciences\"\n",
        "---"
      ],
      "id": "7043404d"
    },
    {
      "cell_type": "markdown",
      "metadata": {},
      "source": [
        "Lorem ipsum dolor sit amet, consectetur adipiscing elit, sed do eiusmod tempor incididunt ut labore et dolore magna aliqua. Sed viverra ipsum nunc aliquet bibendum. Fusce id velit ut tortor pretium viverra suspendisse potenti nullam. Risus quis varius quam quisque id diam vel quam. Sit amet cursus sit amet."
      ],
      "id": "b6a93975"
    },
    {
      "cell_type": "markdown",
      "metadata": {},
      "source": [
        "---\n",
        "\n",
        "# Unibz Building\n",
        "\n",
        "## E Building\n",
        "\n",
        "\n",
        "```{css, echo=FALSE}\n",
        ".title {\n",
        "  font-size: 100px;\n",
        "  font-style: italic;\n",
        "  color: blue;\n",
        "  font-family: Arial;\n",
        "  font-variant: small-caps;\n",
        "}\n",
        "```\n",
        "\n",
        "\n",
        "- BZ-E011 - Laboratory for Entomology and Fruit Analysis\n",
        "- BZ-E012a - Laboratory for Environmental Science\n",
        "- BZ-E012b - Laboratory for Analytical Chemistry I\n",
        "- BZ-E020 - Laboratory for Sample Preparation I\n",
        "- BZ-E021 - Laboratory for Bioorganic Chemistry and Bio-crystallography\n",
        "- BZ-E022 - Laboratory for Phytopathology\n",
        "- BZ-E023 - Laboratory for Animal Science \n",
        "- BZ-E111 - Isotope Laboratory\n",
        "- BZ-E112 - Teaching Laboratory I\n",
        "- BZ-E120 - Laboratory for Analytical Chemistry II\n",
        "- BZ-E122 - Laboratory for Molecular Biology\n",
        "- BZ-E231 - Teaching Laboratory II\n",
        "\n",
        "\n",
        "\n",
        "\n",
        "## K Building\n",
        "\n",
        "- BZ-KU03 - Climatic chamber\n",
        "- BZ-KU06 - Room for Sample Preparation\n",
        "\n",
        "# NOI Techpark\n",
        "\n",
        "## A Building\n",
        "\n",
        "- BZ-NOI-A2 2.03 - Bakery Inspirience Center\n",
        "- BZ-NOI-A2 2.05 - Dairy Center\n",
        "- BZ-NOI-A2 2.07 - Vegetable Fermentation\n",
        "- BZ-NOI-A2 2.13 - Food Physics Lab\n",
        "- BZ-NOI-A2 2.25 - Advanced Technologies Lab\n",
        "- BZ-NOI-A2 2.26 - Food Chemistry Lab\n",
        "- BZ-NOI-A2 2.27 - Phenomics & Metabolomics\n",
        "- BZ-NOI-A2 2.28 - Basic Microbiology\n",
        "- BZ-NOI-A2 2.29 - Genetics & SHIME\n",
        "- BZ-NOI-A2 2.38 - Twinshime\n",
        "- BZ-NOI-A2 3.03c - Oenolab\n",
        "- BZ-NOI-A2 3.03d - Microscopy\n",
        "- BZ-NOI-A2 3.03f - Proteomics\n",
        "\n",
        "## B Building\n",
        "\n",
        "- BZ-NOI-B5 0.02 - Agroforestry Innovations Lab"
      ],
      "id": "eddee079"
    }
  ],
  "metadata": {
    "kernelspec": {
      "display_name": "Python 3",
      "language": "python",
      "name": "python3"
    }
  },
  "nbformat": 4,
  "nbformat_minor": 5
}